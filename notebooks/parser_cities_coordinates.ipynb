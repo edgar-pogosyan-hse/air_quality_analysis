{
 "cells": [
  {
   "cell_type": "code",
   "execution_count": 1,
   "id": "0bdb1fbb",
   "metadata": {},
   "outputs": [
    {
     "name": "stdout",
     "output_type": "stream",
     "text": [
      "Данные были сохранены в файл 'cities_data.json', папка data/source\n"
     ]
    }
   ],
   "source": [
    "import requests\n",
    "import pandas as pd\n",
    "import os\n",
    "from bs4 import BeautifulSoup\n",
    "\n",
    "url = \"https://time-in.ru/coordinates/Russia\"\n",
    "url_edit = \"\"\n",
    "countries = ['germany', 'denmark', 'greece', 'switzerland', 'spain', 'austria']\n",
    "countries_on_russian = ['Германия', 'Дания', 'Греция', 'Швейцария', 'Испания', 'Австрия']\n",
    "countries_for_datafarme = []\n",
    "all_cities = []\n",
    "latitude = []\n",
    "longitude = []\n",
    "result_data = pd.DataFrame()\n",
    "\n",
    "# Переменная для создания списка с русскими названиями стран в датафрейме\n",
    "for_dataframe = 0\n",
    "\n",
    "# Цикл по странам\n",
    "for country in countries:\n",
    "    counter = 0\n",
    "    \n",
    "    # Меняем ссылку для поиска городов по необходимой стране\n",
    "    url_edit = url.replace(\"Russia\", country)\n",
    "    r = requests.get(url_edit)\n",
    "    soup = BeautifulSoup(r.text, 'html.parser')\n",
    "    \n",
    "    # Цикл по городам на сайте\n",
    "    for i in soup.find_all('li'):\n",
    "        \n",
    "        # Пропускаем первые 11 строк с ненужной информацией\n",
    "        if counter >= 11:\n",
    "\n",
    "            # Подставляем название страны на русском\n",
    "            countries_for_datafarme.append(countries_on_russian[for_dataframe])\n",
    "            \n",
    "            # Находим <a> с нужным атрибутом class и извлекаем из него текст\n",
    "            city = i.find('a', {'class':'coordinates-items-left'}).text\n",
    "            all_cities.append(city)\n",
    "            \n",
    "            # Находим <div> с нужным атрибутом class и извлекаем из него текст\n",
    "            coordinates = i.find('div', {'class': 'coordinates-items-right'}).text\n",
    "\n",
    "            # Разделяем координаты нга широту и долготу\n",
    "            latitude_value, longitude_value = map(float, coordinates.split(','))\n",
    "\n",
    "            # Добавляем коордианты в отдельные списки\n",
    "            latitude.append(latitude_value)\n",
    "            longitude.append(longitude_value)\n",
    "\n",
    "        else: pass\n",
    "        counter += 1\n",
    "        \n",
    "    for_dataframe += 1\n",
    "\n",
    "# Формируем датафрейм из городов и их координат\n",
    "result_data['name'] = all_cities\n",
    "result_data['country'] = countries_for_datafarme\n",
    "result_data['latitude'] = latitude\n",
    "result_data['longitude'] = longitude\n",
    "\n",
    "\n",
    "# Создаем json файл и сохраняем в нужную папку\n",
    "result_data_json = result_data.to_json('../data/source/cities_data.json', orient='records')\n",
    "\n",
    "print(\"Данные были сохранены в файл 'cities_data.json', папка data/source\")"
   ]
  },
  {
   "cell_type": "code",
   "execution_count": null,
   "id": "d0fdc55c",
   "metadata": {},
   "outputs": [],
   "source": []
  }
 ],
 "metadata": {
  "kernelspec": {
   "display_name": "Python 3 (ipykernel)",
   "language": "python",
   "name": "python3"
  },
  "language_info": {
   "codemirror_mode": {
    "name": "ipython",
    "version": 3
   },
   "file_extension": ".py",
   "mimetype": "text/x-python",
   "name": "python",
   "nbconvert_exporter": "python",
   "pygments_lexer": "ipython3",
   "version": "3.7.0"
  }
 },
 "nbformat": 4,
 "nbformat_minor": 5
}
