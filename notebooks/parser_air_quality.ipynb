{
 "cells": [
  {
   "cell_type": "code",
   "execution_count": 1,
   "id": "f47LSbMWP9Fq",
   "metadata": {
    "id": "f47LSbMWP9Fq"
   },
   "outputs": [],
   "source": [
    "import json\n",
    "import openmeteo_requests\n",
    "import requests_cache\n",
    "import pandas as pd\n",
    "from tqdm import tqdm\n",
    "from retry_requests import retry"
   ]
  },
  {
   "cell_type": "code",
   "execution_count": 2,
   "id": "gMp6e61-Rl0P",
   "metadata": {
    "id": "gMp6e61-Rl0P"
   },
   "outputs": [],
   "source": [
    "# Загрузка JSON с городами и их координатами\n",
    "with open(\"data/source/cities_data.json\", \"r\", encoding=\"utf-8\") as f:\n",
    "    cities_data = json.load(f)"
   ]
  },
  {
   "cell_type": "code",
   "execution_count": 3,
   "id": "bc7df03e-bc15-4af8-b890-4958df9afe10",
   "metadata": {
    "colab": {
     "base_uri": "https://localhost:8080/"
    },
    "id": "bc7df03e-bc15-4af8-b890-4958df9afe10",
    "outputId": "6cd2feba-7f41-40db-a52f-ca0e09384c74"
   },
   "outputs": [
    {
     "name": "stdout",
     "output_type": "stream",
     "text": [
      "358\n"
     ]
    },
    {
     "data": {
      "text/plain": [
       "{'name': 'Филлах', 'country': 'Австрия', 'latitude': 46.61, 'longitude': 13.86}"
      ]
     },
     "execution_count": 3,
     "metadata": {},
     "output_type": "execute_result"
    }
   ],
   "source": [
    "print(len(cities_data)) # Кол-во городов в справочнике\n",
    "cities_data[-1]"
   ]
  },
  {
   "cell_type": "code",
   "execution_count": 7,
   "id": "b13d6747-ab87-46b0-98fd-c21cce6c75bf",
   "metadata": {
    "id": "b13d6747-ab87-46b0-98fd-c21cce6c75bf"
   },
   "outputs": [],
   "source": [
    "# Open-Meteo — это API погоды с открытым исходным кодом, предлагающий бесплатный доступ для некоммерческого использования\n",
    "url = \"https://air-quality-api.open-meteo.com/v1/air-quality\"\n",
    "\n",
    "# Для сбора данных\n",
    "data_air_quality = []"
   ]
  },
  {
   "cell_type": "code",
   "execution_count": 9,
   "id": "c3694590-d55e-43db-a98c-4bbbd2e1f70b",
   "metadata": {
    "id": "c3694590-d55e-43db-a98c-4bbbd2e1f70b"
   },
   "outputs": [],
   "source": [
    "# Настройка сессии для работы с API\n",
    "cache_session = requests_cache.CachedSession('.cache', expire_after = 3600) # кэширование для хранения ответов на запросы\n",
    "retry_session = retry(cache_session, retries = 3, backoff_factor = 2) # повторная попытка в случае ошибки\n",
    "openmeteo = openmeteo_requests.Client(session = retry_session)"
   ]
  },
  {
   "cell_type": "code",
   "execution_count": 11,
   "id": "SreePlSCP4tV",
   "metadata": {
    "id": "SreePlSCP4tV"
   },
   "outputs": [],
   "source": [
    "def parser_air_quality(cities_data):\n",
    "    # Извлечение данных из первой половины JSON\n",
    "    cyties     = [city[\"name\"]      for city in cities_data]\n",
    "    countries  = [city[\"country\"]   for city in cities_data]\n",
    "    latitudes  = [city[\"latitude\"]  for city in cities_data]\n",
    "    longitudes = [city[\"longitude\"] for city in cities_data]\n",
    "\n",
    "    # Параметры для запроса (одинаковые для всех городов)\n",
    "    params = {\n",
    "        \"hourly\": [\n",
    "            \"pm10\", \"pm2_5\", \"carbon_monoxide\", \"carbon_dioxide\",\n",
    "            \"nitrogen_dioxide\", \"sulphur_dioxide\", \"ozone\",\n",
    "            \"aerosol_optical_depth\", \"dust\", \"uv_index\",\n",
    "            \"uv_index_clear_sky\", \"ammonia\", \"methane\",\n",
    "            \"alder_pollen\", \"birch_pollen\", \"grass_pollen\",\n",
    "            \"mugwort_pollen\", \"olive_pollen\", \"ragweed_pollen\"\n",
    "        ],\n",
    "        \"latitude\": latitudes,\n",
    "        \"longitude\": longitudes,\n",
    "        \"start_date\": \"2020-01-01\",\n",
    "        \"end_date\": \"2024-12-31\"\n",
    "    }\n",
    "\n",
    "    responses = openmeteo.weather_api(url, params=params)\n",
    "\n",
    "    # Обработка данных для каждого местоположения + индикатор отслеживания\n",
    "    for i, response in tqdm(enumerate(responses), desc=\"Обработка городов\"):\n",
    "        city      = cyties[i]\n",
    "        country   = countries[i]\n",
    "        latitude  = latitudes[i]\n",
    "        longitude = longitudes[i]\n",
    "\n",
    "        # Извлечение почасовых данных\n",
    "        hourly = response.Hourly()\n",
    "        timestamps = pd.date_range(\n",
    "            start=pd.to_datetime(hourly.Time(), unit=\"s\", utc=True),\n",
    "            end=pd.to_datetime(hourly.TimeEnd(), unit=\"s\", utc=True),\n",
    "            freq=pd.Timedelta(seconds=hourly.Interval()),\n",
    "            inclusive=\"left\"\n",
    "        )\n",
    "\n",
    "        data_dict = {\n",
    "            \"date\":                  timestamps,\n",
    "            \"country\":               country,\n",
    "            \"city\":                  city,\n",
    "            \"latitude\":              latitude,\n",
    "            \"longitude\":             longitude,\n",
    "            \"pm10\":                  hourly.Variables(0).ValuesAsNumpy(),\n",
    "            \"pm2_5\":                 hourly.Variables(1).ValuesAsNumpy(),\n",
    "            \"carbon_monoxide\":       hourly.Variables(2).ValuesAsNumpy(),\n",
    "            \"carbon_dioxide\":        hourly.Variables(3).ValuesAsNumpy(),\n",
    "            \"nitrogen_dioxide\":      hourly.Variables(4).ValuesAsNumpy(),\n",
    "            \"sulphur_dioxide\":       hourly.Variables(5).ValuesAsNumpy(),\n",
    "            \"ozone\":                 hourly.Variables(6).ValuesAsNumpy(),\n",
    "            \"aerosol_optical_depth\": hourly.Variables(7).ValuesAsNumpy(),\n",
    "            \"dust\":                  hourly.Variables(8).ValuesAsNumpy(),\n",
    "            \"uv_index\":              hourly.Variables(9).ValuesAsNumpy(),\n",
    "            \"uv_index_clear_sky\":    hourly.Variables(10).ValuesAsNumpy(),\n",
    "            \"ammonia\":               hourly.Variables(11).ValuesAsNumpy(),\n",
    "            \"methane\":               hourly.Variables(12).ValuesAsNumpy(),\n",
    "            \"alder_pollen\":          hourly.Variables(13).ValuesAsNumpy(),\n",
    "            \"birch_pollen\":          hourly.Variables(14).ValuesAsNumpy(),\n",
    "            \"grass_pollen\":          hourly.Variables(15).ValuesAsNumpy(),\n",
    "            \"mugwort_pollen\":        hourly.Variables(16).ValuesAsNumpy(),\n",
    "            \"olive_pollen\":          hourly.Variables(17).ValuesAsNumpy(),\n",
    "            \"ragweed_pollen\":        hourly.Variables(18).ValuesAsNumpy()\n",
    "        }\n",
    "\n",
    "        df = pd.DataFrame(data_dict)\n",
    "        data_air_quality.append(df)"
   ]
  },
  {
   "cell_type": "code",
   "execution_count": 13,
   "id": "c75963bb-d927-4380-addf-8f6b09b435ca",
   "metadata": {
    "colab": {
     "base_uri": "https://localhost:8080/"
    },
    "id": "c75963bb-d927-4380-addf-8f6b09b435ca",
    "outputId": "4d935b6f-6df9-4341-9d61-c0ed042bdab7"
   },
   "outputs": [
    {
     "data": {
      "text/plain": [
       "179"
      ]
     },
     "execution_count": 13,
     "metadata": {},
     "output_type": "execute_result"
    }
   ],
   "source": [
    "# Разбиение данных json на две части, так как клиент Open-Meteo API не позволяет делать все запросы за раз (ограничения сайта)\n",
    "half = len(cities_data) // 2\n",
    "half"
   ]
  },
  {
   "cell_type": "code",
   "execution_count": 43,
   "id": "09bf8d4b-9fc0-4a65-8463-a1dcc62a89aa",
   "metadata": {
    "colab": {
     "base_uri": "https://localhost:8080/"
    },
    "id": "09bf8d4b-9fc0-4a65-8463-a1dcc62a89aa",
    "outputId": "cbdc45df-352e-42bb-e321-919cbf971d7f",
    "scrolled": true
   },
   "outputs": [
    {
     "name": "stderr",
     "output_type": "stream",
     "text": [
      "Обработка городов: 179it [00:00, 298.27it/s]\n"
     ]
    }
   ],
   "source": [
    "parser_air_quality(cities_data[:half])"
   ]
  },
  {
   "cell_type": "code",
   "execution_count": 17,
   "id": "e2096490-0dcb-4ea4-91c8-141dcc39c2c4",
   "metadata": {
    "colab": {
     "base_uri": "https://localhost:8080/"
    },
    "id": "e2096490-0dcb-4ea4-91c8-141dcc39c2c4",
    "outputId": "c15eca4e-0a04-4e3b-c704-8d9327545e31"
   },
   "outputs": [
    {
     "name": "stderr",
     "output_type": "stream",
     "text": [
      "Обработка городов: 179it [00:00, 194.19it/s]\n"
     ]
    }
   ],
   "source": [
    "# Второй запуск через час, когда пройдет ограничение на запросы\n",
    "parser_air_quality(cities_data[half:])"
   ]
  },
  {
   "cell_type": "code",
   "execution_count": 19,
   "id": "f035fa50-a986-4c16-8d64-87ae8b3a52e4",
   "metadata": {
    "colab": {
     "base_uri": "https://localhost:8080/",
     "height": 342
    },
    "id": "f035fa50-a986-4c16-8d64-87ae8b3a52e4",
    "outputId": "26b97d08-72cf-4249-cf45-55f82dcd6eb6"
   },
   "outputs": [
    {
     "data": {
      "text/html": [
       "<div>\n",
       "<style scoped>\n",
       "    .dataframe tbody tr th:only-of-type {\n",
       "        vertical-align: middle;\n",
       "    }\n",
       "\n",
       "    .dataframe tbody tr th {\n",
       "        vertical-align: top;\n",
       "    }\n",
       "\n",
       "    .dataframe thead th {\n",
       "        text-align: right;\n",
       "    }\n",
       "</style>\n",
       "<table border=\"1\" class=\"dataframe\">\n",
       "  <thead>\n",
       "    <tr style=\"text-align: right;\">\n",
       "      <th></th>\n",
       "      <th>date</th>\n",
       "      <th>country</th>\n",
       "      <th>city</th>\n",
       "      <th>latitude</th>\n",
       "      <th>longitude</th>\n",
       "      <th>pm10</th>\n",
       "      <th>pm2_5</th>\n",
       "      <th>carbon_monoxide</th>\n",
       "      <th>carbon_dioxide</th>\n",
       "      <th>nitrogen_dioxide</th>\n",
       "      <th>...</th>\n",
       "      <th>uv_index</th>\n",
       "      <th>uv_index_clear_sky</th>\n",
       "      <th>ammonia</th>\n",
       "      <th>methane</th>\n",
       "      <th>alder_pollen</th>\n",
       "      <th>birch_pollen</th>\n",
       "      <th>grass_pollen</th>\n",
       "      <th>mugwort_pollen</th>\n",
       "      <th>olive_pollen</th>\n",
       "      <th>ragweed_pollen</th>\n",
       "    </tr>\n",
       "  </thead>\n",
       "  <tbody>\n",
       "    <tr>\n",
       "      <th>0</th>\n",
       "      <td>2020-01-01 00:00:00+00:00</td>\n",
       "      <td>Германия</td>\n",
       "      <td>Штутгарт</td>\n",
       "      <td>48.78</td>\n",
       "      <td>9.18</td>\n",
       "      <td>43.599998</td>\n",
       "      <td>33.700001</td>\n",
       "      <td>377.0</td>\n",
       "      <td>NaN</td>\n",
       "      <td>43.299999</td>\n",
       "      <td>...</td>\n",
       "      <td>NaN</td>\n",
       "      <td>NaN</td>\n",
       "      <td>2.3</td>\n",
       "      <td>NaN</td>\n",
       "      <td>NaN</td>\n",
       "      <td>NaN</td>\n",
       "      <td>NaN</td>\n",
       "      <td>NaN</td>\n",
       "      <td>NaN</td>\n",
       "      <td>NaN</td>\n",
       "    </tr>\n",
       "    <tr>\n",
       "      <th>1</th>\n",
       "      <td>2020-01-01 01:00:00+00:00</td>\n",
       "      <td>Германия</td>\n",
       "      <td>Штутгарт</td>\n",
       "      <td>48.78</td>\n",
       "      <td>9.18</td>\n",
       "      <td>52.299999</td>\n",
       "      <td>33.599998</td>\n",
       "      <td>362.0</td>\n",
       "      <td>NaN</td>\n",
       "      <td>43.299999</td>\n",
       "      <td>...</td>\n",
       "      <td>NaN</td>\n",
       "      <td>NaN</td>\n",
       "      <td>2.3</td>\n",
       "      <td>NaN</td>\n",
       "      <td>NaN</td>\n",
       "      <td>NaN</td>\n",
       "      <td>NaN</td>\n",
       "      <td>NaN</td>\n",
       "      <td>NaN</td>\n",
       "      <td>NaN</td>\n",
       "    </tr>\n",
       "    <tr>\n",
       "      <th>2</th>\n",
       "      <td>2020-01-01 02:00:00+00:00</td>\n",
       "      <td>Германия</td>\n",
       "      <td>Штутгарт</td>\n",
       "      <td>48.78</td>\n",
       "      <td>9.18</td>\n",
       "      <td>53.599998</td>\n",
       "      <td>33.099998</td>\n",
       "      <td>383.0</td>\n",
       "      <td>NaN</td>\n",
       "      <td>41.500000</td>\n",
       "      <td>...</td>\n",
       "      <td>NaN</td>\n",
       "      <td>NaN</td>\n",
       "      <td>2.0</td>\n",
       "      <td>NaN</td>\n",
       "      <td>NaN</td>\n",
       "      <td>NaN</td>\n",
       "      <td>NaN</td>\n",
       "      <td>NaN</td>\n",
       "      <td>NaN</td>\n",
       "      <td>NaN</td>\n",
       "    </tr>\n",
       "    <tr>\n",
       "      <th>3</th>\n",
       "      <td>2020-01-01 03:00:00+00:00</td>\n",
       "      <td>Германия</td>\n",
       "      <td>Штутгарт</td>\n",
       "      <td>48.78</td>\n",
       "      <td>9.18</td>\n",
       "      <td>53.900002</td>\n",
       "      <td>35.299999</td>\n",
       "      <td>362.0</td>\n",
       "      <td>NaN</td>\n",
       "      <td>36.500000</td>\n",
       "      <td>...</td>\n",
       "      <td>NaN</td>\n",
       "      <td>NaN</td>\n",
       "      <td>1.7</td>\n",
       "      <td>NaN</td>\n",
       "      <td>NaN</td>\n",
       "      <td>NaN</td>\n",
       "      <td>NaN</td>\n",
       "      <td>NaN</td>\n",
       "      <td>NaN</td>\n",
       "      <td>NaN</td>\n",
       "    </tr>\n",
       "    <tr>\n",
       "      <th>4</th>\n",
       "      <td>2020-01-01 04:00:00+00:00</td>\n",
       "      <td>Германия</td>\n",
       "      <td>Штутгарт</td>\n",
       "      <td>48.78</td>\n",
       "      <td>9.18</td>\n",
       "      <td>53.599998</td>\n",
       "      <td>35.299999</td>\n",
       "      <td>352.0</td>\n",
       "      <td>NaN</td>\n",
       "      <td>31.400000</td>\n",
       "      <td>...</td>\n",
       "      <td>NaN</td>\n",
       "      <td>NaN</td>\n",
       "      <td>1.4</td>\n",
       "      <td>NaN</td>\n",
       "      <td>NaN</td>\n",
       "      <td>NaN</td>\n",
       "      <td>NaN</td>\n",
       "      <td>NaN</td>\n",
       "      <td>NaN</td>\n",
       "      <td>NaN</td>\n",
       "    </tr>\n",
       "  </tbody>\n",
       "</table>\n",
       "<p>5 rows × 24 columns</p>\n",
       "</div>"
      ],
      "text/plain": [
       "                       date   country      city  latitude  longitude  \\\n",
       "0 2020-01-01 00:00:00+00:00  Германия  Штутгарт     48.78       9.18   \n",
       "1 2020-01-01 01:00:00+00:00  Германия  Штутгарт     48.78       9.18   \n",
       "2 2020-01-01 02:00:00+00:00  Германия  Штутгарт     48.78       9.18   \n",
       "3 2020-01-01 03:00:00+00:00  Германия  Штутгарт     48.78       9.18   \n",
       "4 2020-01-01 04:00:00+00:00  Германия  Штутгарт     48.78       9.18   \n",
       "\n",
       "        pm10      pm2_5  carbon_monoxide  carbon_dioxide  nitrogen_dioxide  \\\n",
       "0  43.599998  33.700001            377.0             NaN         43.299999   \n",
       "1  52.299999  33.599998            362.0             NaN         43.299999   \n",
       "2  53.599998  33.099998            383.0             NaN         41.500000   \n",
       "3  53.900002  35.299999            362.0             NaN         36.500000   \n",
       "4  53.599998  35.299999            352.0             NaN         31.400000   \n",
       "\n",
       "   ...  uv_index  uv_index_clear_sky  ammonia  methane  alder_pollen  \\\n",
       "0  ...       NaN                 NaN      2.3      NaN           NaN   \n",
       "1  ...       NaN                 NaN      2.3      NaN           NaN   \n",
       "2  ...       NaN                 NaN      2.0      NaN           NaN   \n",
       "3  ...       NaN                 NaN      1.7      NaN           NaN   \n",
       "4  ...       NaN                 NaN      1.4      NaN           NaN   \n",
       "\n",
       "   birch_pollen  grass_pollen  mugwort_pollen  olive_pollen  ragweed_pollen  \n",
       "0           NaN           NaN             NaN           NaN             NaN  \n",
       "1           NaN           NaN             NaN           NaN             NaN  \n",
       "2           NaN           NaN             NaN           NaN             NaN  \n",
       "3           NaN           NaN             NaN           NaN             NaN  \n",
       "4           NaN           NaN             NaN           NaN             NaN  \n",
       "\n",
       "[5 rows x 24 columns]"
      ]
     },
     "execution_count": 19,
     "metadata": {},
     "output_type": "execute_result"
    }
   ],
   "source": [
    "# Создание итогового DataFrame\n",
    "final_dataframe = pd.concat([pd.DataFrame(data) for data in data_air_quality], ignore_index=True)\n",
    "final_dataframe.head()"
   ]
  },
  {
   "cell_type": "code",
   "execution_count": 33,
   "id": "049b534a-0f3f-4935-a86f-463be907b710",
   "metadata": {
    "colab": {
     "base_uri": "https://localhost:8080/"
    },
    "id": "049b534a-0f3f-4935-a86f-463be907b710",
    "outputId": "78e921b8-c755-4679-b747-2321bc5ce355"
   },
   "outputs": [
    {
     "name": "stdout",
     "output_type": "stream",
     "text": [
      "<class 'pandas.core.frame.DataFrame'>\n",
      "RangeIndex: 15697584 entries, 0 to 15697583\n",
      "Data columns (total 24 columns):\n",
      " #   Column                 Dtype  \n",
      "---  ------                 -----  \n",
      " 0   date                   object \n",
      " 1   country                object \n",
      " 2   city                   object \n",
      " 3   latitude               float64\n",
      " 4   longitude              float64\n",
      " 5   pm10                   float64\n",
      " 6   pm2_5                  float64\n",
      " 7   carbon_monoxide        float64\n",
      " 8   carbon_dioxide         float64\n",
      " 9   nitrogen_dioxide       float64\n",
      " 10  sulphur_dioxide        float64\n",
      " 11  ozone                  float64\n",
      " 12  aerosol_optical_depth  float64\n",
      " 13  dust                   float64\n",
      " 14  uv_index               float64\n",
      " 15  uv_index_clear_sky     float64\n",
      " 16  ammonia                float64\n",
      " 17  methane                float64\n",
      " 18  alder_pollen           float64\n",
      " 19  birch_pollen           float64\n",
      " 20  grass_pollen           float64\n",
      " 21  mugwort_pollen         float64\n",
      " 22  olive_pollen           float64\n",
      " 23  ragweed_pollen         float64\n",
      "dtypes: float64(21), object(3)\n",
      "memory usage: 2.8+ GB\n"
     ]
    }
   ],
   "source": [
    "final_dataframe.info()"
   ]
  },
  {
   "cell_type": "code",
   "execution_count": 29,
   "id": "468a8f64-c01d-4007-bca2-d47d259ee776",
   "metadata": {},
   "outputs": [
    {
     "data": {
      "text/plain": [
       "True"
      ]
     },
     "execution_count": 29,
     "metadata": {},
     "output_type": "execute_result"
    }
   ],
   "source": [
    "# Проверка, что нашлись все данные\n",
    "358*(2*366*24 + 3*365*24) == final_dataframe.shape[0]"
   ]
  },
  {
   "cell_type": "code",
   "execution_count": 31,
   "id": "yXzBauZpUMgF",
   "metadata": {
    "colab": {
     "base_uri": "https://localhost:8080/"
    },
    "id": "yXzBauZpUMgF",
    "outputId": "0b61069d-697c-4a5f-d8a5-8954fbe58eac"
   },
   "outputs": [
    {
     "name": "stdout",
     "output_type": "stream",
     "text": [
      "Данные были сохранены в файл 'air_quality.csv'\n"
     ]
    }
   ],
   "source": [
    "final_dataframe.to_csv('air_quality.csv', index=False)\n",
    "\n",
    "print(\"Данные были сохранены в файл 'air_quality.csv'\")"
   ]
  }
 ],
 "metadata": {
  "colab": {
   "provenance": []
  },
  "kernelspec": {
   "display_name": "Python [conda env:base] *",
   "language": "python",
   "name": "conda-base-py"
  },
  "language_info": {
   "codemirror_mode": {
    "name": "ipython",
    "version": 3
   },
   "file_extension": ".py",
   "mimetype": "text/x-python",
   "name": "python",
   "nbconvert_exporter": "python",
   "pygments_lexer": "ipython3",
   "version": "3.12.7"
  }
 },
 "nbformat": 4,
 "nbformat_minor": 5
}
